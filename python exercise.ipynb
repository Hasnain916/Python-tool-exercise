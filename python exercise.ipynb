{
 "cells": [
  {
   "cell_type": "markdown",
   "id": "65c95f97",
   "metadata": {},
   "source": [
    "Exercise 2 \n",
    "## python excerise Notebook"
   ]
  },
  {
   "cell_type": "code",
   "execution_count": null,
   "id": "427085c2",
   "metadata": {},
   "outputs": [],
   "source": []
  },
  {
   "cell_type": "markdown",
   "id": "097e9cae",
   "metadata": {},
   "source": [
    "Exercise 3\n",
    "\n",
    "## Introduction\n",
    "\n",
    "In this notebook, we will explore the analysis of employee attrition in our organization. Employee attrition can have significant impacts on productivity, morale, and costs. We will use data science and predictive modeling to understand the factors contributing to attrition and work on strategies to reduce it.\n",
    "Let's begin our analysis.\n"
   ]
  },
  {
   "cell_type": "code",
   "execution_count": null,
   "id": "7aaf1368",
   "metadata": {},
   "outputs": [],
   "source": []
  },
  {
   "cell_type": "markdown",
   "id": "749ab32f",
   "metadata": {},
   "source": [
    "Exercise 4\n",
    "# Data Science Languages\n",
    "\n",
    "Data scientists use a variety of programming languages for their work. Some of the popular data science languages include:\n",
    "\n",
    "- Python\n",
    "- R\n",
    "- Julia\n",
    "- SQL (Structured Query Language)\n",
    "- Scala\n",
    "- Java\n",
    "- SAS\n",
    "- MATLAB\n",
    "\n",
    "These languages are used for data analysis, machine learning, data visualization, and more in the field of data science.\n"
   ]
  },
  {
   "cell_type": "code",
   "execution_count": null,
   "id": "12d71f6c",
   "metadata": {},
   "outputs": [],
   "source": []
  },
  {
   "cell_type": "markdown",
   "id": "a1b36bcf",
   "metadata": {},
   "source": [
    "Excercise 4\n",
    "## Data Science Libraries\n",
    "\n",
    "Data scientists use a variety of libraries and frameworks to perform data analysis, machine learning, and other data-related tasks. Some popular data science libraries and frameworks include:\n",
    "\n",
    "- **Python Libraries:**\n",
    "  - NumPy\n",
    "  - Pandas\n",
    "  - Matplotlib\n",
    "  - Seaborn\n",
    "  - Scikit-Learn\n",
    "  - TensorFlow\n",
    "  - PyTorch\n",
    "\n",
    "- **R Packages:**\n",
    "  - dplyr\n",
    "  - ggplot2\n",
    "  - caret\n",
    "  - xgboost\n",
    "  - randomForest\n",
    "\n",
    "- **SQL Libraries:**\n",
    "  - SQLAlchemy\n",
    "  - PyODBC\n",
    "  - psycopg2\n",
    "\n",
    "- **Big Data and Distributed Computing:**\n",
    "  - Apache Hadoop\n",
    "  - Apache Spark\n",
    "\n",
    "- **Data Visualization:**\n",
    "  - Tableau\n",
    "  - Power BI\n",
    "  - D3.js\n",
    "\n",
    "These libraries and frameworks provide data scientists with the tools needed for data manipulation, analysis, modeling, and visualization in their work.\n"
   ]
  },
  {
   "cell_type": "markdown",
   "id": "54a3f641",
   "metadata": {},
   "source": [
    "Excercise 5\n",
    "## Data Science Tools\n",
    "\n",
    "| Tool          | Description                                          |\n",
    "|---------------|------------------------------------------------------|\n",
    "| Programming Languages | Python, R, Julia, SQL, Scala, Java, SAS, MATLAB   |\n",
    "| Data Analysis  | Pandas, NumPy, dplyr, tidyr                         |\n",
    "| Data Visualization | Matplotlib, Seaborn, ggplot2, Tableau         |\n",
    "| Machine Learning | Scikit-Learn, TensorFlow, PyTorch, xgboost, caret |\n",
    "| Big Data Processing | Apache Hadoop, Apache Spark                     |\n",
    "| Database      | PostgreSQL, MySQL, SQL Server, MongoDB            |\n",
    "| Data Warehousing | Amazon Redshift, Google BigQuery                |\n",
    "\n",
    "These tools are essential for data scientists to perform various tasks in the field of data science, from data analysis and visualization to machine learning and big data processing.\n"
   ]
  },
  {
   "cell_type": "markdown",
   "id": "c47bc7cb",
   "metadata": {},
   "source": [
    "Excercise 5\n",
    "## Arithmetic Expression Examples\n",
    "\n",
    "Arithmetic expressions are fundamental in mathematics and programming. In this section, we will explore various arithmetic expressions and mathematical operations. Here are some basic examples:\n",
    "\n",
    "- **Addition**: The addition operator (`+`) is used to add numbers. For example, 2 + 3 equals 5.\n",
    "\n",
    "- **Subtraction**: The subtraction operator (`-`) is used to subtract numbers. For example, 7 - 4 equals 3.\n",
    "\n",
    "- **Multiplication**: The multiplication operator (`*`) is used to multiply numbers. For example, 5 * 6 equals 30.\n",
    "\n",
    "- **Division**: The division operator (`/`) is used to divide numbers. For example, 10 / 2 equals 5.\n",
    "\n",
    "- **Exponentiation**: The exponentiation operator (`**`) is used to raise a number to a power. For example, 2 ** 3 equals 8.\n",
    "\n",
    "- **Modulus**: The modulus operator (`%`) gives the remainder of a division. For example, 11 % 3 equals 2 (remainder when 11 is divided by 3).\n",
    "\n",
    "We will explore these operations and more in the upcoming examples.\n"
   ]
  },
  {
   "cell_type": "code",
   "execution_count": 1,
   "id": "873c9848",
   "metadata": {},
   "outputs": [
    {
     "name": "stdout",
     "output_type": "stream",
     "text": [
      "Multiplication result: 15\n",
      "Addition result: 8\n"
     ]
    }
   ],
   "source": [
    "Excercise 6\n",
    "# Define two numbers\n",
    "number1 = 5\n",
    "number2 = 3\n",
    "\n",
    "# Multiply the numbers\n",
    "result_multiply = number1 * number2\n",
    "\n",
    "# Add the numbers\n",
    "result_add = number1 + number2\n",
    "\n",
    "# Print the results\n",
    "print(\"Multiplication result:\", result_multiply)\n",
    "print(\"Addition result:\", result_add)\n",
    "\n"
   ]
  },
  {
   "cell_type": "code",
   "execution_count": 2,
   "id": "9b4cf702",
   "metadata": {},
   "outputs": [
    {
     "name": "stdout",
     "output_type": "stream",
     "text": [
      "120 minutes is equal to 2.0 hours\n"
     ]
    }
   ],
   "source": [
    "Exercise 7\n",
    "## Objectives\n",
    "# Define the number of minutes\n",
    "minutes = 120\n",
    "\n",
    "# Convert minutes to hours\n",
    "hours = minutes / 60\n",
    "\n",
    "# Print the result\n",
    "print(f\"{minutes} minutes is equal to {hours} hours\")\n"
   ]
  },
  {
   "cell_type": "markdown",
   "id": "b05caac5",
   "metadata": {},
   "source": [
    "Exercise 8\n",
    "## Objectives\n",
    "\n",
    "In this section, we outline the objectives of this notebook:\n",
    "\n",
    "1. Perform basic arithmetic operations.\n",
    "2. Convert units, such as minutes to hours.\n",
    "3. Explore and understand mathematical expressions.\n",
    "4. Learn and practice using code cells in Jupyter Notebook.\n",
    "\n",
    "These objectives will help us build a foundation in mathematical operations and coding using Python.\n"
   ]
  },
  {
   "cell_type": "markdown",
   "id": "a2f41bc8",
   "metadata": {},
   "source": [
    "Excercise 9\n",
    "**Author:** Hasnain Ali\n"
   ]
  },
  {
   "cell_type": "code",
   "execution_count": null,
   "id": "7ad8dfdc",
   "metadata": {},
   "outputs": [],
   "source": []
  }
 ],
 "metadata": {
  "kernelspec": {
   "display_name": "Python 3 (ipykernel)",
   "language": "python",
   "name": "python3"
  },
  "language_info": {
   "codemirror_mode": {
    "name": "ipython",
    "version": 3
   },
   "file_extension": ".py",
   "mimetype": "text/x-python",
   "name": "python",
   "nbconvert_exporter": "python",
   "pygments_lexer": "ipython3",
   "version": "3.11.5"
  }
 },
 "nbformat": 4,
 "nbformat_minor": 5
}
